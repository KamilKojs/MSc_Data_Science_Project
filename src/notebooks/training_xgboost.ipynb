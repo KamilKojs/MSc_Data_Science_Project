{
 "cells": [
  {
   "cell_type": "code",
   "execution_count": 1,
   "metadata": {},
   "outputs": [],
   "source": [
    "import pandas as pd\n",
    "import numpy as np\n",
    "import pickle\n",
    "from datetime import datetime, timedelta\n",
    "from tqdm import tqdm\n",
    "import xgboost as xgb\n",
    "from sklearn.model_selection import train_test_split\n",
    "from sklearn.metrics import f1_score\n",
    "import plotly.express as px\n",
    "#pd.set_option('display.float_format', lambda x: '%.6f' % x)\n",
    "#pd.set_option('display.max_rows', 110)\n",
    "import warnings\n",
    "warnings.filterwarnings(\"ignore\")\n",
    "import statsmodels.api as sm\n",
    "from statsmodels.tsa.arima.model import ARIMA\n",
    "#from IPython.core.interactiveshell import InteractiveShell\n",
    "#\n",
    "#InteractiveShell.ast_node_interactivity = \"last_expr\""
   ]
  },
  {
   "cell_type": "code",
   "execution_count": 2,
   "metadata": {},
   "outputs": [],
   "source": [
    "# 25 functions with data in test set (last 3 days)\n",
    "# workload_ids = [1, 7, 10, 11, 21, 31, 37, 40, 46, 47, 49, 50, 51, 52, 55, 56, 65, 66, 67, 68, 69, 71, 72, 80, 81]\n",
    "\n",
    "workload_ids = [1, 7, 21, 31, 37, 50, 55, 56, 69, 71]"
   ]
  },
  {
   "cell_type": "code",
   "execution_count": 3,
   "metadata": {},
   "outputs": [
    {
     "name": "stdout",
     "output_type": "stream",
     "text": [
      "Model: 1, Unique preds: [0 1], F1-score: 0.9136951924084818\n",
      "Model: 7, Unique preds: [0 1], F1-score: 0.7904218120656841\n",
      "Model: 21, Unique preds: [0 1], F1-score: 0.5426751592356688\n",
      "Model: 31, Unique preds: [0 1], F1-score: 0.9996283909327388\n",
      "Model: 37, Unique preds: [0 1], F1-score: 0.999628666914222\n",
      "Model: 50, Unique preds: [0 1], F1-score: 0.8325508607198748\n",
      "Model: 55, Unique preds: [0 1], F1-score: 0.7589498806682577\n",
      "Model: 56, Unique preds: [0 1], F1-score: 0.8544548976203652\n",
      "Model: 69, Unique preds: [0 1], F1-score: 0.5435801312089972\n",
      "Model: 71, Unique preds: [0 1], F1-score: 0.8494623655913979\n"
     ]
    }
   ],
   "source": [
    "for i in workload_ids:\n",
    "    data = pd.read_csv(f'../../data/training_data/{i}.txt', delimiter=',')\n",
    "    data.drop(columns=[\"Unnamed: 0\"], inplace=True)\n",
    "\n",
    "    data.columns.values\n",
    "    train_features = [feature for feature in data if feature != 'invocations']\n",
    "\n",
    "    X = data[train_features]\n",
    "    y = data[['invocations']]\n",
    "\n",
    "    test_size = 0.2\n",
    "    X_train, X_test, y_train, y_test = train_test_split(X, y, test_size=test_size, shuffle=False)\n",
    "    model = xgb.XGBClassifier()\n",
    "    model.fit(X_train, y_train)\n",
    "\n",
    "    # Make predictions on the test data\n",
    "    y_pred = model.predict(X_test)\n",
    "\n",
    "    score = f1_score(y_test, y_pred)\n",
    "    print(f'Model: {i}, Unique preds: {np.unique(y_pred)}, F1-score: {score}')\n",
    "\n",
    "    with open(f\"xgb_model_{i}.pkl\", \"wb\") as f:\n",
    "        pickle.dump(model, f)"
   ]
  },
  {
   "cell_type": "code",
   "execution_count": 4,
   "metadata": {},
   "outputs": [
    {
     "name": "stderr",
     "output_type": "stream",
     "text": [
      "100%|██████████| 10/10 [00:00<00:00, 24.83it/s]\n"
     ]
    },
    {
     "data": {
      "text/plain": [
       "0.414227"
      ]
     },
     "execution_count": 4,
     "metadata": {},
     "output_type": "execute_result"
    }
   ],
   "source": [
    "test_data = pd.concat([X_test, y_test], axis=1)\n",
    "\n",
    "predictions = model.predict(test_data[train_features])\n",
    "test_data[\"prediction\"] = predictions\n",
    "\n",
    "from datetime import datetime\n",
    "\n",
    "now = datetime.now()\n",
    "for i in tqdm(range(10)):\n",
    "    predictions = model.predict(test_data[train_features]) # 3.5 days of historical data + latest datapoint\n",
    "\n",
    "later = datetime.now()\n",
    "difference = (later - now).total_seconds()\n",
    "difference"
   ]
  }
 ],
 "metadata": {
  "kernelspec": {
   "display_name": "thesis_project-WyxREqTA-py3.10",
   "language": "python",
   "name": "python3"
  },
  "language_info": {
   "codemirror_mode": {
    "name": "ipython",
    "version": 3
   },
   "file_extension": ".py",
   "mimetype": "text/x-python",
   "name": "python",
   "nbconvert_exporter": "python",
   "pygments_lexer": "ipython3",
   "version": "3.10.12"
  }
 },
 "nbformat": 4,
 "nbformat_minor": 2
}
